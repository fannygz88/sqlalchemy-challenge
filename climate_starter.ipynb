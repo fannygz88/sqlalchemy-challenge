{
 "cells": [
  {
   "cell_type": "code",
   "execution_count": 1,
   "metadata": {},
   "outputs": [],
   "source": [
    "%matplotlib inline\n",
    "from matplotlib import style\n",
    "style.use('fivethirtyeight')\n",
    "import matplotlib.pyplot as plt"
   ]
  },
  {
   "cell_type": "code",
   "execution_count": 2,
   "metadata": {},
   "outputs": [],
   "source": [
    "import numpy as np\n",
    "import pandas as pd"
   ]
  },
  {
   "cell_type": "code",
   "execution_count": 3,
   "metadata": {},
   "outputs": [],
   "source": [
    "import datetime as dt\n",
    "from datetime import timedelta"
   ]
  },
  {
   "cell_type": "markdown",
   "metadata": {},
   "source": [
    "# Reflect Tables into SQLAlchemy ORM"
   ]
  },
  {
   "cell_type": "code",
   "execution_count": 4,
   "metadata": {},
   "outputs": [],
   "source": [
    "# Python SQL toolkit and Object Relational Mapper\n",
    "import sqlalchemy\n",
    "from sqlalchemy.ext.automap import automap_base\n",
    "from sqlalchemy.orm import Session\n",
    "from sqlalchemy import create_engine, func"
   ]
  },
  {
   "cell_type": "code",
   "execution_count": 5,
   "metadata": {},
   "outputs": [],
   "source": [
    "engine = create_engine(\"sqlite:///Resources/hawaii.sqlite\")"
   ]
  },
  {
   "cell_type": "code",
   "execution_count": 6,
   "metadata": {},
   "outputs": [],
   "source": [
    "# reflect an existing database into a new model\n",
    "Base = automap_base()\n",
    "\n",
    "# reflect the tables\n",
    "Base.prepare(engine, reflect=True)"
   ]
  },
  {
   "cell_type": "code",
   "execution_count": 7,
   "metadata": {},
   "outputs": [
    {
     "data": {
      "text/plain": [
       "['measurement', 'station']"
      ]
     },
     "execution_count": 7,
     "metadata": {},
     "output_type": "execute_result"
    }
   ],
   "source": [
    "# We can view all of the classes that automap found\n",
    "Base.classes.keys()"
   ]
  },
  {
   "cell_type": "code",
   "execution_count": 8,
   "metadata": {},
   "outputs": [],
   "source": [
    "# Save references to each table\n",
    "\n",
    "Measure = Base.classes.measurement\n",
    "Station = Base.classes.station\n"
   ]
  },
  {
   "cell_type": "code",
   "execution_count": 9,
   "metadata": {},
   "outputs": [],
   "source": [
    "# Create our session (link) from Python to the DB\n",
    "from sqlalchemy.orm import Session\n",
    "session= Session(engine)\n"
   ]
  },
  {
   "cell_type": "markdown",
   "metadata": {},
   "source": [
    "# Exploratory Climate Analysis"
   ]
  },
  {
   "cell_type": "code",
   "execution_count": 10,
   "metadata": {},
   "outputs": [
    {
     "data": {
      "image/png": "[encoded data removed]",
      "text/plain": [
       "<Figure size 432x288 with 1 Axes>"
      ]
     },
     "metadata": {
      "needs_background": "light"
     },
     "output_type": "display_data"
    }
   ],
   "source": [
    "################################### INSTRUTCTIONS ########################################\n",
    "# ->  Design a query to retrieve the last 12 months of precipitation data and plot the results\n",
    "# ->  Calculate the date 1 year ago from the last data point in the database\n",
    "# ->  Perform a query to retrieve the data and precipitation scores\n",
    "# ->  Save the query results as a Pandas DataFrame and set the index to the date column\n",
    "# ->  Sort the dataframe by date\n",
    "# ->  Use Pandas Plotting with Matplotlib to plot the data\n",
    "#########################################################################################\n",
    "\n",
    "#------- Taking into consideration that the latest date is  2017-08-23, \n",
    "#------- and it is nedeed the last 12 months of precipitation:\n",
    "query_date = dt.date(2017, 8, 23) - dt.timedelta(days=365)\n",
    "#------ the query is created once that the query date is calculated\n",
    "prep_12 = session.query( Measure.date, Measure.prcp).\\\n",
    "    filter(func.strftime(\"%Y-%m-%d\", Measure.date)>= query_date ).all()\n",
    "\n",
    "#------ converting the query to pandas\n",
    "prpc = pd.DataFrame(data = prep_12)\n",
    "prpc.rename(columns = {\"prcp\":\"precipitation\"},inplace = True)\n",
    "prpc.set_index('date',inplace=True)\n",
    "prpc.sort_values('date')\n",
    "\n",
    "#------ Plotting the result\n",
    "prpc.plot()\n",
    "plt.xticks(rotation=90)\n",
    "plt.xlabel(\"Date\")\n",
    "\n",
    "\n",
    "plt.show()\n",
    "\n"
   ]
  },
  {
   "cell_type": "code",
   "execution_count": 11,
   "metadata": {},
   "outputs": [
    {
     "data": {
      "text/html": [
       "<div>\n",
       "<style scoped>\n",
       "    .dataframe tbody tr th:only-of-type {\n",
       "        vertical-align: middle;\n",
       "    }\n",
       "\n",
       "    .dataframe tbody tr th {\n",
       "        vertical-align: top;\n",
       "    }\n",
       "\n",
       "    .dataframe thead th {\n",
       "        text-align: right;\n",
       "    }\n",
       "</style>\n",
       "<table border=\"1\" class=\"dataframe\">\n",
       "  <thead>\n",
       "    <tr style=\"text-align: right;\">\n",
       "      <th></th>\n",
       "      <th>precipitation</th>\n",
       "    </tr>\n",
       "  </thead>\n",
       "  <tbody>\n",
       "    <tr>\n",
       "      <td>count</td>\n",
       "      <td>2021.000000</td>\n",
       "    </tr>\n",
       "    <tr>\n",
       "      <td>mean</td>\n",
       "      <td>0.177279</td>\n",
       "    </tr>\n",
       "    <tr>\n",
       "      <td>std</td>\n",
       "      <td>0.461190</td>\n",
       "    </tr>\n",
       "    <tr>\n",
       "      <td>min</td>\n",
       "      <td>0.000000</td>\n",
       "    </tr>\n",
       "    <tr>\n",
       "      <td>25%</td>\n",
       "      <td>0.000000</td>\n",
       "    </tr>\n",
       "    <tr>\n",
       "      <td>50%</td>\n",
       "      <td>0.020000</td>\n",
       "    </tr>\n",
       "    <tr>\n",
       "      <td>75%</td>\n",
       "      <td>0.130000</td>\n",
       "    </tr>\n",
       "    <tr>\n",
       "      <td>max</td>\n",
       "      <td>6.700000</td>\n",
       "    </tr>\n",
       "  </tbody>\n",
       "</table>\n",
       "</div>"
      ],
      "text/plain": [
       "       precipitation\n",
       "count    2021.000000\n",
       "mean        0.177279\n",
       "std         0.461190\n",
       "min         0.000000\n",
       "25%         0.000000\n",
       "50%         0.020000\n",
       "75%         0.130000\n",
       "max         6.700000"
      ]
     },
     "execution_count": 11,
     "metadata": {},
     "output_type": "execute_result"
    }
   ],
   "source": [
    "# Use Pandas to calcualte the summary statistics for the precipitation data\n",
    "prpc.describe()"
   ]
  },
  {
   "cell_type": "code",
   "execution_count": 12,
   "metadata": {},
   "outputs": [
    {
     "data": {
      "text/plain": [
       "[('USC00513117', 343),\n",
       " ('USC00514830', 305),\n",
       " ('USC00516128', 349),\n",
       " ('USC00517948', 183),\n",
       " ('USC00519281', 352),\n",
       " ('USC00519397', 361),\n",
       " ('USC00519523', 337)]"
      ]
     },
     "execution_count": 12,
     "metadata": {},
     "output_type": "execute_result"
    }
   ],
   "source": [
    "# Design a query to show how many stations are available in this dataset?\n",
    "session.query(Measure.station,func.count(Measure.station).label(\"Count\")).\\\n",
    "    filter(func.strftime(\"%Y-%m-%d\", Measure.date)>= query_date ).\\\n",
    "    group_by(Measure.station).all()"
   ]
  },
  {
   "cell_type": "code",
   "execution_count": 13,
   "metadata": {},
   "outputs": [
    {
     "data": {
      "text/plain": [
       "[('USC00519397', 361),\n",
       " ('USC00519281', 352),\n",
       " ('USC00516128', 349),\n",
       " ('USC00513117', 343),\n",
       " ('USC00519523', 337),\n",
       " ('USC00514830', 305),\n",
       " ('USC00517948', 183)]"
      ]
     },
     "execution_count": 13,
     "metadata": {},
     "output_type": "execute_result"
    }
   ],
   "source": [
    "# What are the most active stations? (i.e. what stations have the most rows)?\n",
    "# List the stations and the counts in descending order.\n",
    "session.query(Measure.station,func.count(Measure.station).label(\"Count\")).\\\n",
    "    filter(func.strftime(\"%Y-%m-%d\", Measure.date)>= query_date ).\\\n",
    "    group_by(Measure.station).order_by(func.count(Measure.station).label(\"Count\").desc()).all()"
   ]
  },
  {
   "cell_type": "code",
   "execution_count": 14,
   "metadata": {},
   "outputs": [
    {
     "data": {
      "text/plain": [
       "[('USC00519397', 60.0, 75.21052631578948, 87.0)]"
      ]
     },
     "execution_count": 14,
     "metadata": {},
     "output_type": "execute_result"
    }
   ],
   "source": [
    "# Using the station id from the previous query, calculate the lowest temperature recorded, \n",
    "# highest temperature recorded, and average temperature of the most active station?\n",
    "\n",
    "# Highest observations USC00519397\n",
    "\n",
    "station = 'USC00519397'\n",
    "\n",
    "session.query(\n",
    "        Measure.station,func.min(Measure.tobs), func.avg(Measure.tobs), func.max(Measure.tobs)\n",
    "    ).filter(func.strftime(\"%Y-%m-%d\", Measure.date)>= query_date ).filter(Measure.station==station).all()\n",
    "\n",
    "\n"
   ]
  },
  {
   "cell_type": "code",
   "execution_count": 15,
   "metadata": {},
   "outputs": [
    {
     "data": {
      "image/png": "[encoded data removed]",
      "text/plain": [
       "<Figure size 432x288 with 1 Axes>"
      ]
     },
     "metadata": {
      "needs_background": "light"
     },
     "output_type": "display_data"
    }
   ],
   "source": [
    "# Choose the station with the highest number of temperature observations.\n",
    "# Query the last 12 months of temperature observation data for this station and plot the results\n",
    "# as a histogram\n",
    "\n",
    "#------ -> Highest observations USC00519397\n",
    "\n",
    "high_temp =session.query(Measure.tobs).\\\n",
    "    filter(func.strftime(\"%Y-%m-%d\", Measure.date)>= query_date ).\\\n",
    "    filter(Measure.station==station).all()\n",
    "\n",
    "tobs = pd.DataFrame(data=high_temp)\n",
    "tobs.hist(bins=12)\n",
    "plt.show()"
   ]
  },
  {
   "cell_type": "markdown",
   "metadata": {},
   "source": [
    "## Bonus Challenge Assignment"
   ]
  },
  {
   "cell_type": "code",
   "execution_count": 16,
   "metadata": {},
   "outputs": [
    {
     "name": "stdout",
     "output_type": "stream",
     "text": [
      "[(62.0, 69.57142857142857, 74.0)]\n"
     ]
    }
   ],
   "source": [
    "# This function called `calc_temps` will accept start date and end date in the format '%Y-%m-%d' \n",
    "# and return the minimum, average, and maximum temperatures for that range of dates\n",
    "def calc_temps(start_date, end_date):\n",
    "    \"\"\"TMIN, TAVG, and TMAX for a list of dates.\n",
    "    \n",
    "    Args:\n",
    "        start_date (string): A date string in the format %Y-%m-%d\n",
    "        end_date (string): A date string in the format %Y-%m-%d\n",
    "        \n",
    "    Returns:\n",
    "        TMIN, TAVE, and TMAX\n",
    "    \"\"\"\n",
    "    \n",
    "    return session.query(func.min(Measure.tobs), func.avg(Measure.tobs), func.max(Measure.tobs)).\\\n",
    "        filter(Measure.date >= start_date).filter(Measure.date <= end_date).all()\n",
    "\n",
    "# function usage example\n",
    "print(calc_temps('2012-02-28', '2012-03-05'))"
   ]
  },
  {
   "cell_type": "code",
   "execution_count": 17,
   "metadata": {},
   "outputs": [
    {
     "name": "stdout",
     "output_type": "stream",
     "text": [
      "Dates: 2016-08-31 - 2016-09-16 \n",
      "Tmin: 71.0\n",
      "Tavg: 77.64485981308411\n",
      "Tmax: 84.0\n"
     ]
    }
   ],
   "source": [
    "# Use your previous function `calc_temps` to calculate the tmin, tavg, and tmax \n",
    "# for your trip using the previous year's data for those same dates.\n",
    "\n",
    "start_date = '2016-08-31'\n",
    "end_date = '2016-09-16'\n",
    "result = calc_temps(start_date,end_date)\n",
    "print(\n",
    "    f'Dates: {start_date} - {end_date} \\nTmin: {result[0][0]}\\nTavg: {result[0][1]}\\nTmax: {result[0][2]}'\n",
    ")"
   ]
  },
  {
   "cell_type": "code",
   "execution_count": 18,
   "metadata": {},
   "outputs": [
    {
     "data": {
      "image/png": "[encoded data removed]",
      "text/plain": [
       "<Figure size 432x288 with 1 Axes>"
      ]
     },
     "metadata": {
      "needs_background": "light"
     },
     "output_type": "display_data"
    }
   ],
   "source": [
    "# Plot the results from your previous query as a bar chart. \n",
    "# Use \"Trip Avg Temp\" as your Title\n",
    "# Use the average temperature for the y value\n",
    "# Use the peak-to-peak (tmax-tmin) value as the y error bar (yerr)\n",
    "result = calc_temps(start_date,end_date)\n",
    "y_pos = np.arange(1)\n",
    "yerr = result[0][1]-result[0][2]\n",
    "height = result[0][1]\n",
    "\n",
    "plt.bar(y_pos,height,alpha=.5, yerr=yerr)\n",
    "plt.xticks(y_pos)\n",
    "plt.ylabel('Average temperature')\n",
    "plt.title(\"Trip Average Temperature\")\n",
    "plt.show()"
   ]
  },
  {
   "cell_type": "code",
   "execution_count": 19,
   "metadata": {},
   "outputs": [
    {
     "data": {
      "text/plain": [
       "[('USC00516128', 21.63),\n",
       " ('USC00519281', 5.319999999999999),\n",
       " ('USC00519523', 3.71),\n",
       " ('USC00514830', 3.0599999999999996),\n",
       " ('USC00513117', 2.34),\n",
       " ('USC00519397', 2.1100000000000003),\n",
       " ('USC00517948', 0.0)]"
      ]
     },
     "execution_count": 19,
     "metadata": {},
     "output_type": "execute_result"
    }
   ],
   "source": [
    "# Calculate the total amount of rainfall per weather station for your trip dates using \n",
    "# the previous year's matching dates.\n",
    "# Sort this in descending order by precipitation amount and list the station, \n",
    "# name, latitude, longitude, and elevation\n",
    "\n",
    "session.query(Measure.station,func.sum(Measure.prcp)).\\\n",
    "      filter(Measure.date >= start_date).filter(Measure.date <= end_date).\\\n",
    "      group_by(Measure.station).order_by(func.sum(Measure.prcp).desc()).all()"
   ]
  },
  {
   "cell_type": "code",
   "execution_count": 20,
   "metadata": {},
   "outputs": [
    {
     "data": {
      "text/plain": [
       "[(62.0, 69.15384615384616, 77.0)]"
      ]
     },
     "execution_count": 20,
     "metadata": {},
     "output_type": "execute_result"
    }
   ],
   "source": [
    "# Create a query that will calculate the daily normals \n",
    "# (i.e. the averages for tmin, tmax, and tavg for all historic data matching a specific\n",
    "# month and day)\n",
    "\n",
    "def daily_normals(date):\n",
    "    \"\"\"Daily Normals.\n",
    "    \n",
    "    Args:\n",
    "        date (str): A date string in the format '%m-%d'\n",
    "        \n",
    "    Returns:\n",
    "        A list of tuples containing the daily normals, tmin, tavg, and tmax\n",
    "    \n",
    "    \"\"\"\n",
    "    \n",
    "    sel = [func.min(Measure.tobs), func.avg(Measure.tobs), func.max(Measure.tobs)]\n",
    "    return session.query(*sel).filter(func.strftime(\"%m-%d\", Measure.date) == date).all()\n",
    "    \n",
    "daily_normals(\"01-01\")"
   ]
  },
  {
   "cell_type": "code",
   "execution_count": 21,
   "metadata": {},
   "outputs": [
    {
     "name": "stdout",
     "output_type": "stream",
     "text": [
      "[(69.0, 77.0, 82.0)]\n",
      "[(67.0, 76.66666666666667, 83.0)]\n",
      "[(69.0, 76.13725490196079, 83.0)]\n",
      "[(68.0, 76.27083333333333, 84.0)]\n",
      "[(66.0, 75.91489361702128, 84.0)]\n",
      "[(66.0, 74.91111111111111, 81.0)]\n",
      "[(64.0, 75.18, 82.0)]\n",
      "[(66.0, 76.22222222222223, 83.0)]\n",
      "[(68.0, 76.36538461538461, 84.0)]\n",
      "[(67.0, 76.61224489795919, 85.0)]\n",
      "[(70.0, 76.69565217391305, 83.0)]\n",
      "[(68.0, 75.89795918367346, 85.0)]\n",
      "[(68.0, 75.875, 82.0)]\n",
      "[(69.0, 75.98076923076923, 85.0)]\n",
      "[(67.0, 76.14, 81.0)]\n",
      "[(70.0, 77.40384615384616, 86.0)]\n"
     ]
    }
   ],
   "source": [
    "# calculate the daily normals for your trip\n",
    "# 2016-08-31 - 2016-09-16\n",
    "# push each tuple of calculations into a list called `normals`\n",
    "normals = []\n",
    "# Set the start and end date of the trip\n",
    "\n",
    "date_start = dt.date(2016,8,31)\n",
    "date_end = dt.date(2016,9,16)\n",
    "# Use the start and end date to create a range of dates\n",
    "dates_trip = []\n",
    "for i in range(1,17):\n",
    "    dates_trip.append(date_start +dt.timedelta(days=i))\n",
    "  \n",
    "\n",
    "days =[]\n",
    "  \n",
    "# Stip off the year and save a list of %m-%d strings\n",
    "for i in range(len(dates_trip)):\n",
    "    days.append(dates_trip[i].strftime(\"%m-%d\"))\n",
    "    \n",
    "# Loop through the list of %m-%d strings and calculate the normals for each date\n",
    "for day in days:\n",
    "    normals.append(daily_normals(day))\n",
    "    print(daily_normals(day))\n",
    "\n"
   ]
  }
 ],
 "metadata": {
  "kernel_info": {
   "name": "python3"
  },
  "kernelspec": {
   "display_name": "Python 3",
   "language": "python",
   "name": "python3"
  },
  "language_info": {
   "codemirror_mode": {
    "name": "ipython",
    "version": 3
   },
   "file_extension": ".py",
   "mimetype": "text/x-python",
   "name": "python",
   "nbconvert_exporter": "python",
   "pygments_lexer": "ipython3",
   "version": "3.7.4"
  },
  "nteract": {
   "version": "0.12.3"
  },
  "varInspector": {
   "cols": {
    "lenName": 16,
    "lenType": 16,
    "lenVar": 40
   },
   "kernels_config": {
    "python": {
     "delete_cmd_postfix": "",
     "delete_cmd_prefix": "del ",
     "library": "var_list.py",
     "varRefreshCmd": "print(var_dic_list())"
    },
    "r": {
     "delete_cmd_postfix": ") ",
     "delete_cmd_prefix": "rm(",
     "library": "var_list.r",
     "varRefreshCmd": "cat(var_dic_list()) "
    }
   },
   "types_to_exclude": [
    "module",
    "function",
    "builtin_function_or_method",
    "instance",
    "_Feature"
   ],
   "window_display": false
  }
 },
 "nbformat": 4,
 "nbformat_minor": 2
}
